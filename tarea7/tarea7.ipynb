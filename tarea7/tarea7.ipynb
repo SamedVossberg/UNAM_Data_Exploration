{
 "cells": [
  {
   "cell_type": "markdown",
   "metadata": {},
   "source": [
    "# Tarea 7: \n",
    "In this notebook we will proof that at least 3 people will have the same amount of hair. \n",
    "\n",
    "\n",
    "#### Assumptions: \n",
    "- There are 900,000 individuals\n",
    "- Every individual has a hair count between 50,000 and 200,000"
   ]
  },
  {
   "cell_type": "markdown",
   "metadata": {},
   "source": [
    "### This is easy an easy proof (pigeon hole principle):\n",
    "There are more objects (actual number of individuals) than \"containers\" (Amount of hair they can have)\n",
    "\n",
    "    900,000 > 2 * (200,000 - 50,000+1)\n",
    "<=> 900,000 > 2 * 150,001\\\n",
    "<=> 900,000 > 300,002"
   ]
  },
  {
   "cell_type": "markdown",
   "metadata": {},
   "source": [
    "### Let's run a short simulation to test this. "
   ]
  },
  {
   "cell_type": "code",
   "execution_count": 1,
   "metadata": {},
   "outputs": [
    {
     "name": "stdout",
     "output_type": "stream",
     "text": [
      "Hair count 159210 is held by 9 people. We only needed 3 to prove the point!\n"
     ]
    }
   ],
   "source": [
    "def find_three_with_same_count(num_people=900000, min_hair=50000, max_hair=200000):\n",
    "    import random\n",
    "    from collections import Counter\n",
    "    \n",
    "    # 1. Generate random hair counts\n",
    "    possible_counts = range(min_hair, max_hair + 1)\n",
    "    assigned_counts = [random.choice(possible_counts) for _ in range(num_people)]\n",
    "    \n",
    "    # 2. Count occurrences of each hair-count\n",
    "    counter = Counter(assigned_counts)\n",
    "    \n",
    "    # 3. Check if any hair count appears at least three times\n",
    "    for hair_count, c in counter.items():\n",
    "        if c >= 3:\n",
    "            # We found at least one hair-count shared by three or more people\n",
    "            print(f\"Hair count {hair_count} is held by {c} people. We only needed 3 to prove the point!\")\n",
    "            return\n",
    "    \n",
    "    print(\"No hair count had 3 or more people (which should be extremely unlikely).\")\n",
    "\n",
    "if __name__ == \"__main__\":\n",
    "    find_three_with_same_count()\n"
   ]
  },
  {
   "cell_type": "code",
   "execution_count": null,
   "metadata": {},
   "outputs": [],
   "source": []
  }
 ],
 "metadata": {
  "kernelspec": {
   "display_name": "tensorflow",
   "language": "python",
   "name": "python3"
  },
  "language_info": {
   "codemirror_mode": {
    "name": "ipython",
    "version": 3
   },
   "file_extension": ".py",
   "mimetype": "text/x-python",
   "name": "python",
   "nbconvert_exporter": "python",
   "pygments_lexer": "ipython3",
   "version": "3.10.16"
  }
 },
 "nbformat": 4,
 "nbformat_minor": 2
}
